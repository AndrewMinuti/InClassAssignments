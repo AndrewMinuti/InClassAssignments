{
  "nbformat": 4,
  "nbformat_minor": 0,
  "metadata": {
    "colab": {
      "provenance": [],
      "authorship_tag": "ABX9TyOgrsIp/ntpMunNOiPRuF8x",
      "include_colab_link": true
    },
    "kernelspec": {
      "name": "python3",
      "display_name": "Python 3"
    },
    "language_info": {
      "name": "python"
    }
  },
  "cells": [
    {
      "cell_type": "markdown",
      "metadata": {
        "id": "view-in-github",
        "colab_type": "text"
      },
      "source": [
        "<a href=\"https://colab.research.google.com/github/AndrewMinuti/InClassAssignments/blob/main/InClassAssignments.ipynb\" target=\"_parent\"><img src=\"https://colab.research.google.com/assets/colab-badge.svg\" alt=\"Open In Colab\"/></a>"
      ]
    },
    {
      "cell_type": "markdown",
      "source": [
        "Surface Area of a cyllander 8/27"
      ],
      "metadata": {
        "id": "z1PP2KPFyp-p"
      }
    },
    {
      "cell_type": "code",
      "execution_count": null,
      "metadata": {
        "colab": {
          "base_uri": "https://localhost:8080/"
        },
        "id": "HFPxKXz-ykrC",
        "outputId": "2d9350fc-8f42-4241-ec7a-2c1e82160186"
      },
      "outputs": [
        {
          "output_type": "stream",
          "name": "stdout",
          "text": [
            "244.92000000000002\n"
          ]
        }
      ],
      "source": [
        "r = 3\n",
        "pi = 3.14\n",
        "h = 10\n",
        "area = 2 * pi * r ** 2 + 2 * pi * r * h\n",
        "print(area)"
      ]
    },
    {
      "cell_type": "markdown",
      "source": [
        "Rock Paper Scissors"
      ],
      "metadata": {
        "id": "qAbiqJaBSMd5"
      }
    },
    {
      "cell_type": "code",
      "source": [
        "P1 = (input('Player 1 (Rock/Paper/Scissors): '))\n",
        "P2 = (input('Player 2 (Rock/Paper?Scissors): '))\n",
        "\n",
        "if P1 == P2:\n",
        "  print('Draw')\n",
        "elif (P1 == 'Rock' and P2 == 'Scissors') or (P1 == 'Scissors' and P2 == 'Paper') or (P1 == 'Paper' and P2 == 'Rock'):\n",
        "  print('P1 Wins')\n",
        "elif (P2 == 'Rock' and P1 == 'Scissors') or (P2 == 'Scissors' and P1 == 'Paper') or (P2 == 'Paper' and P1 == 'Rock'):\n",
        "  print('P2 Wins')"
      ],
      "metadata": {
        "colab": {
          "base_uri": "https://localhost:8080/"
        },
        "id": "SbkMKTESSFQx",
        "outputId": "772adf0c-ea3d-4bc4-cc33-38722503a7d5"
      },
      "execution_count": 3,
      "outputs": [
        {
          "output_type": "stream",
          "name": "stdout",
          "text": [
            "Player 1 (Rock/Paper/Scissors): Rock\n",
            "Player 2 (Rock/Paper?Scissors): Paper\n",
            "P2 Wins\n"
          ]
        }
      ]
    },
    {
      "cell_type": "markdown",
      "source": [
        "Calculator"
      ],
      "metadata": {
        "id": "CTcikuHl9IGn"
      }
    },
    {
      "cell_type": "code",
      "source": [
        "N1 = float(input('1st Number'))\n",
        "N2 = float(input('2nd Number'))\n",
        "S = (input('+ - * /'))\n",
        "\n",
        "if S == '+':\n",
        "  A = N1 + N2\n",
        "  print(A)\n",
        "elif S == '-':\n",
        "  A = N1 - N2\n",
        "  print(A)\n",
        "elif S == '*':\n",
        "  A = N1 * N2\n",
        "  print(A)\n",
        "elif S == '/':\n",
        "  A = N1 / N2\n",
        "  Print(A)\n",
        "else:\n",
        "  print('Invalid Symbol')\n"
      ],
      "metadata": {
        "colab": {
          "base_uri": "https://localhost:8080/"
        },
        "id": "b8OFUzdI9K5x",
        "outputId": "d35deb9a-bdbd-482d-8ba3-f85230102fb3"
      },
      "execution_count": 8,
      "outputs": [
        {
          "output_type": "stream",
          "name": "stdout",
          "text": [
            "1st Number5\n",
            "2nd Number6\n",
            "+ - * /*\n",
            "30.0\n"
          ]
        }
      ]
    }
  ]
}