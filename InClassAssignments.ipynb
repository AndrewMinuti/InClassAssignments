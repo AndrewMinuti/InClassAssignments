{
  "nbformat": 4,
  "nbformat_minor": 0,
  "metadata": {
    "colab": {
      "provenance": [],
      "authorship_tag": "ABX9TyMtBwh7Z+pp4FZLKMCl7Z2C",
      "include_colab_link": true
    },
    "kernelspec": {
      "name": "python3",
      "display_name": "Python 3"
    },
    "language_info": {
      "name": "python"
    }
  },
  "cells": [
    {
      "cell_type": "markdown",
      "metadata": {
        "id": "view-in-github",
        "colab_type": "text"
      },
      "source": [
        "<a href=\"https://colab.research.google.com/github/AndrewMinuti/InClassAssignments/blob/main/InClassAssignments.ipynb\" target=\"_parent\"><img src=\"https://colab.research.google.com/assets/colab-badge.svg\" alt=\"Open In Colab\"/></a>"
      ]
    },
    {
      "cell_type": "markdown",
      "source": [
        "Surface Area of a cyllander 8/27"
      ],
      "metadata": {
        "id": "z1PP2KPFyp-p"
      }
    },
    {
      "cell_type": "code",
      "execution_count": null,
      "metadata": {
        "colab": {
          "base_uri": "https://localhost:8080/"
        },
        "id": "HFPxKXz-ykrC",
        "outputId": "2d9350fc-8f42-4241-ec7a-2c1e82160186"
      },
      "outputs": [
        {
          "output_type": "stream",
          "name": "stdout",
          "text": [
            "244.92000000000002\n"
          ]
        }
      ],
      "source": [
        "r = 3\n",
        "pi = 3.14\n",
        "h = 10\n",
        "area = 2 * pi * r ** 2 + 2 * pi * r * h\n",
        "print(area)"
      ]
    },
    {
      "cell_type": "markdown",
      "source": [
        "Rock Paper Scissors"
      ],
      "metadata": {
        "id": "qAbiqJaBSMd5"
      }
    },
    {
      "cell_type": "code",
      "source": [
        "P1 = (input('Player 1 (Rock/Paper/Scissors): '))\n",
        "P2 = (input('Player 2 (Rock/Paper?Scissors): '))\n",
        "\n",
        "if P1 == P2:\n",
        "  print('Draw')\n",
        "elif (P1 == 'Rock' and P2 == 'Scissors') or (P1 == 'Scissors' and P2 == 'Paper') or (P1 == 'Paper' and P2 == 'Rock'):\n",
        "  print('P1 Wins')\n",
        "elif (P2 == 'Rock' and P1 == 'Scissors') or (P2 == 'Scissors' and P1 == 'Paper') or (P2 == 'Paper' and P1 == 'Rock'):\n",
        "  print('P2 Wins')"
      ],
      "metadata": {
        "colab": {
          "base_uri": "https://localhost:8080/"
        },
        "id": "SbkMKTESSFQx",
        "outputId": "772adf0c-ea3d-4bc4-cc33-38722503a7d5"
      },
      "execution_count": null,
      "outputs": [
        {
          "output_type": "stream",
          "name": "stdout",
          "text": [
            "Player 1 (Rock/Paper/Scissors): Rock\n",
            "Player 2 (Rock/Paper?Scissors): Paper\n",
            "P2 Wins\n"
          ]
        }
      ]
    },
    {
      "cell_type": "markdown",
      "source": [
        "Calculator"
      ],
      "metadata": {
        "id": "CTcikuHl9IGn"
      }
    },
    {
      "cell_type": "code",
      "source": [
        "N1 = float(input('1st Number'))\n",
        "N2 = float(input('2nd Number'))\n",
        "S = (input('+ - * /'))\n",
        "\n",
        "if S == '+':\n",
        "  A = N1 + N2\n",
        "  print(A)\n",
        "elif S == '-':\n",
        "  A = N1 - N2\n",
        "  print(A)\n",
        "elif S == '*':\n",
        "  A = N1 * N2\n",
        "  print(A)\n",
        "elif S == '/':\n",
        "  A = N1 / N2\n",
        "  Print(A)\n",
        "else:\n",
        "  print('Invalid Symbol')\n"
      ],
      "metadata": {
        "colab": {
          "base_uri": "https://localhost:8080/"
        },
        "id": "b8OFUzdI9K5x",
        "outputId": "d35deb9a-bdbd-482d-8ba3-f85230102fb3"
      },
      "execution_count": null,
      "outputs": [
        {
          "output_type": "stream",
          "name": "stdout",
          "text": [
            "1st Number5\n",
            "2nd Number6\n",
            "+ - * /*\n",
            "30.0\n"
          ]
        }
      ]
    },
    {
      "cell_type": "markdown",
      "source": [
        "Parking Garage"
      ],
      "metadata": {
        "id": "1u2cB2liIJIX"
      }
    },
    {
      "cell_type": "code",
      "source": [
        "flat = 5\n",
        "for t in range(1, 9):\n",
        "  charge = flat + 2.5 * t\n",
        "  if charge < 10:\n",
        "    charge = 10\n",
        "  elif charge > 20:\n",
        "    charge = 20\n",
        "  print(t, charge)"
      ],
      "metadata": {
        "colab": {
          "base_uri": "https://localhost:8080/"
        },
        "id": "zGXhonxJIIzE",
        "outputId": "14dc4893-f604-41bb-f0b0-2557ed4c1065"
      },
      "execution_count": null,
      "outputs": [
        {
          "output_type": "stream",
          "name": "stdout",
          "text": [
            "1 10\n",
            "2 10.0\n",
            "3 12.5\n",
            "4 15.0\n",
            "5 17.5\n",
            "6 20.0\n",
            "7 20\n",
            "8 20\n"
          ]
        }
      ]
    },
    {
      "cell_type": "markdown",
      "source": [
        "Movie Theater"
      ],
      "metadata": {
        "id": "WnrSyDCCK03s"
      }
    },
    {
      "cell_type": "code",
      "source": [
        "flat = 200\n",
        "ticket = 10\n",
        "standardAttendees = 20\n",
        "for ad in range(0, 200, 25):\n",
        "  attendance = 2 * round(ad ** .5) + standardAttendees\n",
        "  profit = ticket * attendance - flat - ad\n",
        "  print(ad, profit)\n",
        "\n",
        "\n"
      ],
      "metadata": {
        "colab": {
          "base_uri": "https://localhost:8080/"
        },
        "id": "bM6R8OvZK0pZ",
        "outputId": "b2860aa3-1fd9-4b49-d03b-f5691df63a8f"
      },
      "execution_count": null,
      "outputs": [
        {
          "output_type": "stream",
          "name": "stdout",
          "text": [
            "0 0\n",
            "25 75\n",
            "50 90\n",
            "75 105\n",
            "100 100\n",
            "125 95\n",
            "150 90\n",
            "175 85\n"
          ]
        }
      ]
    },
    {
      "cell_type": "markdown",
      "source": [
        "0 List"
      ],
      "metadata": {
        "id": "lB0iVc9CVq5E"
      }
    },
    {
      "cell_type": "code",
      "source": [
        "L = []\n",
        "I = 1\n",
        "while I != 0:\n",
        "  I = float(input())\n",
        "  L.append(I)\n",
        "L"
      ],
      "metadata": {
        "colab": {
          "base_uri": "https://localhost:8080/"
        },
        "id": "Hjn7dUKhVsQn",
        "outputId": "9523e302-2dfd-48be-d6a2-19410543798a"
      },
      "execution_count": null,
      "outputs": [
        {
          "name": "stdout",
          "output_type": "stream",
          "text": [
            "1\n",
            "2\n",
            "3\n",
            "4\n",
            "5\n",
            "6\n",
            "7\n",
            "8\n",
            "9\n",
            "0\n"
          ]
        },
        {
          "output_type": "execute_result",
          "data": {
            "text/plain": [
              "[1.0, 2.0, 3.0, 4.0, 5.0, 6.0, 7.0, 8.0, 9.0, 0.0]"
            ]
          },
          "metadata": {},
          "execution_count": 11
        }
      ]
    },
    {
      "cell_type": "markdown",
      "source": [
        "Month Dictionary"
      ],
      "metadata": {
        "id": "-BdYFINGGEuf"
      }
    },
    {
      "cell_type": "code",
      "source": [
        "months = {}\n",
        "\n",
        "names = ['Jan', 'Feb', 'Mar', 'Apr', 'May', 'Jun', 'Jul', 'Aug', 'Sep', 'Oct', 'Nov', 'Dec']\n",
        "numbers = [1, 2, 3, 4, 5, 6, 7, 8, 9, 10, 11, 12]\n",
        "\n",
        "for x in numbers:\n",
        "  months[x] = names[x-1]\n",
        "months"
      ],
      "metadata": {
        "colab": {
          "base_uri": "https://localhost:8080/"
        },
        "id": "HvuMv4A2FhDU",
        "outputId": "bace32d2-ffdd-4d47-9168-284ac046b2ff"
      },
      "execution_count": null,
      "outputs": [
        {
          "output_type": "execute_result",
          "data": {
            "text/plain": [
              "{1: 'Jan',\n",
              " 2: 'Feb',\n",
              " 3: 'Mar',\n",
              " 4: 'Apr',\n",
              " 5: 'May',\n",
              " 6: 'Jun',\n",
              " 7: 'Jul',\n",
              " 8: 'Aug',\n",
              " 9: 'Sep',\n",
              " 10: 'Oct',\n",
              " 11: 'Nov',\n",
              " 12: 'Dec'}"
            ]
          },
          "metadata": {},
          "execution_count": 6
        }
      ]
    },
    {
      "cell_type": "markdown",
      "source": [
        "House Hunting"
      ],
      "metadata": {
        "id": "ohgRrmrQWtwd"
      }
    },
    {
      "cell_type": "code",
      "source": [
        "total_cost = float(input('House_Cost: '))\n",
        "salary = float(input('Annual_Salary: '))\n",
        "portion_saved = float(input('Portion_Saved: '))\n",
        "portion_down_payment = 0.25\n",
        "amount = 0\n",
        "months = 0\n",
        "r = 0.04\n",
        "down = total_cost * portion_down_payment\n",
        "\n",
        "while amount < down:\n",
        "    months += 1\n",
        "    amount = amount + (amount * r / 12) + (salary * portion_saved / 12)\n",
        "\n",
        "print(months)"
      ],
      "metadata": {
        "colab": {
          "base_uri": "https://localhost:8080/"
        },
        "id": "Con2tIMFWvZL",
        "outputId": "f95ec1ba-ca55-4ad6-8da8-bf8d029306e7"
      },
      "execution_count": null,
      "outputs": [
        {
          "output_type": "stream",
          "name": "stdout",
          "text": [
            "House_Cost: 100000\n",
            "Annual_Salary: 10000\n",
            "Portion_Saved: .20\n",
            "122\n"
          ]
        }
      ]
    },
    {
      "cell_type": "markdown",
      "source": [
        "House Hunting 2"
      ],
      "metadata": {
        "id": "dRZNNqXtbCRi"
      }
    },
    {
      "cell_type": "code",
      "source": [
        "total_cost = float(input('House Cost: '))\n",
        "salary = float(input('Annual Salary: '))\n",
        "portion_saved = float(input('Portion Saved: '))\n",
        "semi_annual_raise = float(input('Semiannual Raise (as a decimal): '))\n",
        "\n",
        "portion_down_payment = 0.25\n",
        "amount = 0\n",
        "months = 0\n",
        "r = 0.04\n",
        "down = total_cost * portion_down_payment\n",
        "\n",
        "while amount < down:\n",
        "    months += 1\n",
        "    amount = amount + (amount * r / 12) + (salary * portion_saved / 12)\n",
        "    if months % 6 == 0:\n",
        "        salary = salary * (1 + semi_annual_raise)\n",
        "\n",
        "print(months)"
      ],
      "metadata": {
        "colab": {
          "base_uri": "https://localhost:8080/"
        },
        "id": "FhV3iAtobDnQ",
        "outputId": "f9fd7ec6-70e5-4cd6-eef9-89fdeea7932f"
      },
      "execution_count": null,
      "outputs": [
        {
          "output_type": "stream",
          "name": "stdout",
          "text": [
            "House Cost: 1000000\n",
            "Annual Salary: 200000\n",
            "Portion Saved: .20\n",
            "Semiannual Raise (as a decimal): .10\n",
            "49\n"
          ]
        }
      ]
    },
    {
      "cell_type": "markdown",
      "source": [
        "Number Within Range"
      ],
      "metadata": {
        "id": "Yh2WpTVpbfrS"
      }
    },
    {
      "cell_type": "code",
      "source": [
        "\n",
        "def range_check(number, start, end):\n",
        "    return start <= number <= end\n",
        "number = float(input('Number'))\n",
        "Lower = float(input('Lower'))\n",
        "Upper = float(input('Upper'))\n",
        "print(range_check(number,Lower,Upper))"
      ],
      "metadata": {
        "colab": {
          "base_uri": "https://localhost:8080/"
        },
        "id": "iM0F4BqMbgB6",
        "outputId": "1fa15c0e-cd8a-4621-c163-b83036c3be75"
      },
      "execution_count": null,
      "outputs": [
        {
          "output_type": "stream",
          "name": "stdout",
          "text": [
            "Number5\n",
            "Lower1\n",
            "Upper4\n",
            "False\n"
          ]
        }
      ]
    },
    {
      "cell_type": "markdown",
      "source": [
        "String Reversal"
      ],
      "metadata": {
        "id": "vZyKs6jjUjjZ"
      }
    },
    {
      "cell_type": "code",
      "source": [
        "string = input()\n",
        "def rev(s):\n",
        "  if len(s) == 0:\n",
        "    return s\n",
        "  else:\n",
        "    return rev(s[1:]) + s[0]\n",
        "\n",
        "\n",
        "print(rev(string))"
      ],
      "metadata": {
        "id": "JqnZVOlmUkB6",
        "colab": {
          "base_uri": "https://localhost:8080/"
        },
        "outputId": "d829dc9a-0870-4a65-96c5-fba0c503a729"
      },
      "execution_count": null,
      "outputs": [
        {
          "output_type": "stream",
          "name": "stdout",
          "text": [
            "hello\n",
            "olleh\n"
          ]
        }
      ]
    },
    {
      "cell_type": "markdown",
      "source": [
        "Weighted Average"
      ],
      "metadata": {
        "id": "Qpx_ZNrXt0vX"
      }
    },
    {
      "cell_type": "code",
      "source": [
        "from ast import YieldFrom\n",
        "def wAvg(L, w):\n",
        "    try:\n",
        "        numerator = sum(x * y for x, y in zip(L, w))\n",
        "        denominator = sum(w)\n",
        "        return numerator / denominator\n",
        "\n",
        "    except ZeroDivisionError:\n",
        "        print(\"ZeroDivisionError:\")\n",
        "        return []\n",
        "\n",
        "    except TypeError:\n",
        "        print(\"TypeError:\")\n",
        "        return []\n",
        "\n",
        "    except Error:\n",
        "        print(f'Unknown Error: {e}')\n",
        "        return float('nan')\n",
        "\n",
        "wAvg([1, 2, 3], [.3, .4, .3])"
      ],
      "metadata": {
        "colab": {
          "base_uri": "https://localhost:8080/"
        },
        "id": "feMA8yWft51X",
        "outputId": "31053453-5d35-4ca5-ec97-e48101fe3732"
      },
      "execution_count": 9,
      "outputs": [
        {
          "output_type": "execute_result",
          "data": {
            "text/plain": [
              "2.0"
            ]
          },
          "metadata": {},
          "execution_count": 9
        }
      ]
    }
  ]
}